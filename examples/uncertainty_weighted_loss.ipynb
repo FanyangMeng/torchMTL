{
 "cells": [
  {
   "cell_type": "markdown",
   "metadata": {},
   "source": [
    "### Example of weighing the multi-task loss with uncertainty\n",
    "This is a `torchmtl` implementation of the paper [Multi-Task Learning Using Uncertainty to Weigh Losses for Scene Geometry and Semantics](https://arxiv.org/abs/1705.07115).\n",
    "Large fractions of this notebook are borrowed from Yarin Gal's [example implementation](https://github.com/yaringal/multi-task-learning-example/blob/master/multi-task-learning-example-pytorch.ipynb)."
   ]
  },
  {
   "cell_type": "code",
   "execution_count": 1,
   "metadata": {},
   "outputs": [],
   "source": [
    "# PyTorch imports\n",
    "import torch\n",
    "from torch import nn\n",
    "import torch.optim as optim\n",
    "from torch.nn import (Linear, Sequential, MSELoss)\n",
    "\n",
    "# Import networkx for visualization\n",
    "import networkx as nx\n",
    "\n",
    "# torchMTL imports\n",
    "from torchmtl import MTLModel\n",
    "from torchmtl.wrapping_layers import Concat\n",
    "\n",
    "# Some imports for the visualization\n",
    "import matplotlib.pyplot as plt\n",
    "\n",
    "import numpy as np\n",
    "np.random.seed(0)\n",
    "torch.manual_seed(0)\n",
    "\n",
    "def gen_data(N):\n",
    "    X = np.random.randn(N, input_size)\n",
    "    w1 = 2.\n",
    "    b1 = 8.\n",
    "    sigma1 = 1e1  # ground truth\n",
    "    Y1 = X.dot(w1) + b1 + sigma1 * np.random.randn(N, output1_size)\n",
    "    w2 = 3.\n",
    "    b2 = 3.\n",
    "    sigma2 = 1e0  # ground truth\n",
    "    Y2 = X.dot(w2) + b2 + sigma2 * np.random.randn(N, output2_size)\n",
    "    return X, Y1, Y2\n",
    "\n",
    "def shuffle_data(X, Y1, Y2):\n",
    "    s = np.arange(X.shape[0])\n",
    "    np.random.shuffle(s)\n",
    "    return X[s], Y1[s], Y2[s]"
   ]
  },
  {
   "cell_type": "markdown",
   "metadata": {},
   "source": [
    "Now, we define the multi-task model ..."
   ]
  },
  {
   "cell_type": "code",
   "execution_count": 2,
   "metadata": {},
   "outputs": [],
   "source": [
    "nb_features = 1024\n",
    "input_size = 1\n",
    "hidden_size = 2  # total number of output\n",
    "output1_size = 1  # first output\n",
    "output2_size = 1  # second output\n",
    "\n",
    "# Define a loss function that returns the log vars\n",
    "class MultiTaskLossWrapper(nn.Module):\n",
    "    def __init__(self, num_tasks):\n",
    "        super(MultiTaskLossWrapper, self).__init__()\n",
    "        self.num_tasks = num_tasks\n",
    "        self.log_vars = nn.Parameter(torch.zeros((num_tasks)))\n",
    "\n",
    "    def forward(self, *X):\n",
    "        # Return the log vars so precision can be computed\n",
    "        # in the training loop. Also return the predictions.\n",
    "        return self.log_vars, X\n",
    "\n",
    "tasks = [\n",
    "        {\n",
    "            'name': \"InputTask\",\n",
    "            'layers': Sequential(*[nn.Linear(input_size, hidden_size), nn.ReLU()]),\n",
    "            # No anchor_layer means this layer receives input directly\n",
    "        },    \n",
    "        {\n",
    "            'name': \"Lin1\",\n",
    "            'layers': nn.Linear(hidden_size, output1_size),\n",
    "            'anchor_layer': \"InputTask\"\n",
    "        },    \n",
    "        {\n",
    "            'name': \"Lin2\",\n",
    "            'layers': nn.Linear(hidden_size, output2_size),\n",
    "            'anchor_layer': \"InputTask\"\n",
    "        },\n",
    "        {\n",
    "            'name': \"MultiLoss\",\n",
    "            'layers': MultiTaskLossWrapper(num_tasks=2),\n",
    "            'anchor_layer': ['Lin1', 'Lin2']\n",
    "        }\n",
    "    ]"
   ]
  },
  {
   "cell_type": "markdown",
   "metadata": {},
   "source": [
    "... define from which layers we would like to receive predictions (output of their 'layers' key), loss function, and scaling factor. "
   ]
  },
  {
   "cell_type": "code",
   "execution_count": 3,
   "metadata": {},
   "outputs": [],
   "source": [
    "output_tasks=['MultiLoss']"
   ]
  },
  {
   "cell_type": "markdown",
   "metadata": {},
   "source": [
    "... and build and visualize it"
   ]
  },
  {
   "cell_type": "code",
   "execution_count": 4,
   "metadata": {},
   "outputs": [
    {
     "data": {
      "image/png": "[encoded data removed]",
      "text/plain": [
       "<Figure size 432x288 with 1 Axes>"
      ]
     },
     "metadata": {},
     "output_type": "display_data"
    }
   ],
   "source": [
    "model = MTLModel(tasks, output_tasks=output_tasks)\n",
    "\n",
    "pos = nx.planar_layout(model.g)\n",
    "nx.draw(model.g, pos, font_size=14, node_color=\"y\", node_size=450, with_labels=True)"
   ]
  },
  {
   "cell_type": "code",
   "execution_count": 5,
   "metadata": {
    "scrolled": true
   },
   "outputs": [],
   "source": [
    "# Define an optimizer\n",
    "optimizer = optim.Adam(model.parameters())\n",
    "\n",
    "# Generate the data set\n",
    "N = 100\n",
    "nb_epoch = 2000\n",
    "batch_size = 20\n",
    "\n",
    "# Generate and convert data into torch from numpy array\n",
    "X, Y1, Y2 = gen_data(N)\n",
    "X = X.astype('float32')\n",
    "Y1 = Y1.astype('float32')\n",
    "Y2 = Y2.astype('float32')\n",
    "\n",
    "losses = []\n",
    "for i in range(nb_epoch):\n",
    "\n",
    "    epoch_loss = 0 \n",
    "    X, Y1, Y2 = shuffle_data(X, Y1, Y2)\n",
    "    \n",
    "    for j in range(N//batch_size):\n",
    "        optimizer.zero_grad()\n",
    "\n",
    "        X_ = torch.from_numpy(X[(j * batch_size):((j + 1) * batch_size)])\n",
    "        target1 = torch.from_numpy(Y1[(j * batch_size):((j + 1) * batch_size)])\n",
    "        target2 = torch.from_numpy(Y2[(j * batch_size):((j + 1) * batch_size)])\n",
    "        y = [target1, target2]\n",
    "        \n",
    "        multi_loss_out, _, _ = model(X_)\n",
    "        log_vars = multi_loss_out[0][0]\n",
    "        y_hat = multi_loss_out[0][1]\n",
    "\n",
    "        loss = 0\n",
    "        for i in range(len(y)):\n",
    "            precision = torch.exp(-log_vars[i])\n",
    "            diff = (y_hat[i] - y[i])**2.\n",
    "            loss += torch.sum(precision * diff + log_vars[i], -1)  \n",
    "        loss = torch.mean(loss)\n",
    "        \n",
    "        epoch_loss += loss.item()\n",
    "        loss.backward()\n",
    "        optimizer.step()\n",
    "        \n",
    "    losses.append(epoch_loss * batch_size / N)"
   ]
  },
  {
   "cell_type": "code",
   "execution_count": 6,
   "metadata": {},
   "outputs": [
    {
     "data": {
      "text/plain": [
       "[<matplotlib.lines.Line2D at 0x133e22490>]"
      ]
     },
     "execution_count": 6,
     "metadata": {},
     "output_type": "execute_result"
    },
    {
     "data": {
      "image/png": "[encoded data removed]",
      "text/plain": [
       "<Figure size 432x288 with 1 Axes>"
      ]
     },
     "metadata": {
      "needs_background": "light"
     },
     "output_type": "display_data"
    }
   ],
   "source": [
    "# Visualize the overall loss\n",
    "plt.plot(losses)"
   ]
  },
  {
   "cell_type": "code",
   "execution_count": 7,
   "metadata": {},
   "outputs": [
    {
     "name": "stdout",
     "output_type": "stream",
     "text": [
      "[8.153119087219238, 1.0081149339675903]\n"
     ]
    }
   ],
   "source": [
    "# Found standard deviations (ground truth is 10 and 1):\n",
    "std_1 = torch.exp(log_vars[0])**0.5\n",
    "std_2 = torch.exp(log_vars[1])**0.5\n",
    "print([std_1.item(), std_2.item()])"
   ]
  }
 ],
 "metadata": {
  "kernelspec": {
   "display_name": "Python 3",
   "language": "python",
   "name": "python3"
  },
  "language_info": {
   "codemirror_mode": {
    "name": "ipython",
    "version": 3
   },
   "file_extension": ".py",
   "mimetype": "text/x-python",
   "name": "python",
   "nbconvert_exporter": "python",
   "pygments_lexer": "ipython3",
   "version": "3.7.8"
  }
 },
 "nbformat": 4,
 "nbformat_minor": 4
}
